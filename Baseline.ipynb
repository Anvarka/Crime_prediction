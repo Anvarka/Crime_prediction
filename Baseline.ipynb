{
  "nbformat": 4,
  "nbformat_minor": 0,
  "metadata": {
    "colab": {
      "name": "Baseline",
      "provenance": [],
      "mount_file_id": "1lPA65oEh3mUnYGbkf3Alwn9QxLZK9d9P",
      "authorship_tag": "ABX9TyOxUNzh/rYCO527m0L7vpuG",
      "include_colab_link": true
    },
    "kernelspec": {
      "name": "python3",
      "display_name": "Python 3"
    },
    "language_info": {
      "name": "python"
    }
  },
  "cells": [
    {
      "cell_type": "markdown",
      "metadata": {
        "id": "view-in-github",
        "colab_type": "text"
      },
      "source": [
        "<a href=\"https://colab.research.google.com/github/Anvarka/Crime_prediction/blob/main/Baseline.ipynb\" target=\"_parent\"><img src=\"https://colab.research.google.com/assets/colab-badge.svg\" alt=\"Open In Colab\"/></a>"
      ]
    },
    {
      "cell_type": "code",
      "execution_count": 1,
      "metadata": {
        "id": "PRZ0wm_bykM-"
      },
      "outputs": [],
      "source": [
        "import pandas as pd\n",
        "import matplotlib.pyplot as plt\n",
        "import datetime\n",
        "import numpy as np\n",
        "from datetime import datetime\n",
        "from datetime import timedelta \n",
        "from dateutil.relativedelta import relativedelta\n",
        "from sklearn.preprocessing import StandardScaler # for normalization\n",
        "from sklearn.preprocessing import MinMaxScaler"
      ]
    },
    {
      "cell_type": "markdown",
      "source": [
        "Preprocessing"
      ],
      "metadata": {
        "id": "F0g_2MyJyqgr"
      }
    },
    {
      "cell_type": "code",
      "source": [
        "#importing dataset\n",
        "data=pd.read_csv('/content/drive/MyDrive/stl-crime-data_2008-2015.tsv',delimiter='\\t',encoding='utf-8')\n",
        "data = data[['DateOccured','Neighborhood','UCRCrime']]\n",
        "data['DateOccured'] = [datetime.strptime(data.iloc[i]['DateOccured'], '%m/%d/%Y %H:%M').date() for i in range(len(data.index))]\n",
        "data"
      ],
      "metadata": {
        "colab": {
          "base_uri": "https://localhost:8080/",
          "height": 423
        },
        "id": "RZfuJlymyoy2",
        "outputId": "eb0e9741-e3bf-4a7f-bc60-cbe31674c058"
      },
      "execution_count": 2,
      "outputs": [
        {
          "output_type": "execute_result",
          "data": {
            "text/html": [
              "\n",
              "  <div id=\"df-be471d14-30c7-4a26-bf20-dfad35409bd2\">\n",
              "    <div class=\"colab-df-container\">\n",
              "      <div>\n",
              "<style scoped>\n",
              "    .dataframe tbody tr th:only-of-type {\n",
              "        vertical-align: middle;\n",
              "    }\n",
              "\n",
              "    .dataframe tbody tr th {\n",
              "        vertical-align: top;\n",
              "    }\n",
              "\n",
              "    .dataframe thead th {\n",
              "        text-align: right;\n",
              "    }\n",
              "</style>\n",
              "<table border=\"1\" class=\"dataframe\">\n",
              "  <thead>\n",
              "    <tr style=\"text-align: right;\">\n",
              "      <th></th>\n",
              "      <th>DateOccured</th>\n",
              "      <th>Neighborhood</th>\n",
              "      <th>UCRCrime</th>\n",
              "    </tr>\n",
              "  </thead>\n",
              "  <tbody>\n",
              "    <tr>\n",
              "      <th>0</th>\n",
              "      <td>2000-01-01</td>\n",
              "      <td>53</td>\n",
              "      <td>Sex Offenses</td>\n",
              "    </tr>\n",
              "    <tr>\n",
              "      <th>1</th>\n",
              "      <td>2003-01-01</td>\n",
              "      <td>17</td>\n",
              "      <td>Larceny-theft</td>\n",
              "    </tr>\n",
              "    <tr>\n",
              "      <th>2</th>\n",
              "      <td>2004-01-01</td>\n",
              "      <td>68</td>\n",
              "      <td>Fraud</td>\n",
              "    </tr>\n",
              "    <tr>\n",
              "      <th>3</th>\n",
              "      <td>2006-01-01</td>\n",
              "      <td>16</td>\n",
              "      <td>Fraud</td>\n",
              "    </tr>\n",
              "    <tr>\n",
              "      <th>4</th>\n",
              "      <td>2007-01-01</td>\n",
              "      <td>57</td>\n",
              "      <td>Other assaults</td>\n",
              "    </tr>\n",
              "    <tr>\n",
              "      <th>...</th>\n",
              "      <td>...</td>\n",
              "      <td>...</td>\n",
              "      <td>...</td>\n",
              "    </tr>\n",
              "    <tr>\n",
              "      <th>477636</th>\n",
              "      <td>2013-12-01</td>\n",
              "      <td>5</td>\n",
              "      <td>Larceny-theft</td>\n",
              "    </tr>\n",
              "    <tr>\n",
              "      <th>477637</th>\n",
              "      <td>2013-12-20</td>\n",
              "      <td>65</td>\n",
              "      <td>Forcible Rape</td>\n",
              "    </tr>\n",
              "    <tr>\n",
              "      <th>477638</th>\n",
              "      <td>2014-12-22</td>\n",
              "      <td>14</td>\n",
              "      <td>Other assaults</td>\n",
              "    </tr>\n",
              "    <tr>\n",
              "      <th>477639</th>\n",
              "      <td>2014-12-26</td>\n",
              "      <td>60</td>\n",
              "      <td>Robbery</td>\n",
              "    </tr>\n",
              "    <tr>\n",
              "      <th>477640</th>\n",
              "      <td>2014-12-29</td>\n",
              "      <td>1</td>\n",
              "      <td>Other</td>\n",
              "    </tr>\n",
              "  </tbody>\n",
              "</table>\n",
              "<p>449000 rows × 3 columns</p>\n",
              "</div>\n",
              "      <button class=\"colab-df-convert\" onclick=\"convertToInteractive('df-be471d14-30c7-4a26-bf20-dfad35409bd2')\"\n",
              "              title=\"Convert this dataframe to an interactive table.\"\n",
              "              style=\"display:none;\">\n",
              "        \n",
              "  <svg xmlns=\"http://www.w3.org/2000/svg\" height=\"24px\"viewBox=\"0 0 24 24\"\n",
              "       width=\"24px\">\n",
              "    <path d=\"M0 0h24v24H0V0z\" fill=\"none\"/>\n",
              "    <path d=\"M18.56 5.44l.94 2.06.94-2.06 2.06-.94-2.06-.94-.94-2.06-.94 2.06-2.06.94zm-11 1L8.5 8.5l.94-2.06 2.06-.94-2.06-.94L8.5 2.5l-.94 2.06-2.06.94zm10 10l.94 2.06.94-2.06 2.06-.94-2.06-.94-.94-2.06-.94 2.06-2.06.94z\"/><path d=\"M17.41 7.96l-1.37-1.37c-.4-.4-.92-.59-1.43-.59-.52 0-1.04.2-1.43.59L10.3 9.45l-7.72 7.72c-.78.78-.78 2.05 0 2.83L4 21.41c.39.39.9.59 1.41.59.51 0 1.02-.2 1.41-.59l7.78-7.78 2.81-2.81c.8-.78.8-2.07 0-2.86zM5.41 20L4 18.59l7.72-7.72 1.47 1.35L5.41 20z\"/>\n",
              "  </svg>\n",
              "      </button>\n",
              "      \n",
              "  <style>\n",
              "    .colab-df-container {\n",
              "      display:flex;\n",
              "      flex-wrap:wrap;\n",
              "      gap: 12px;\n",
              "    }\n",
              "\n",
              "    .colab-df-convert {\n",
              "      background-color: #E8F0FE;\n",
              "      border: none;\n",
              "      border-radius: 50%;\n",
              "      cursor: pointer;\n",
              "      display: none;\n",
              "      fill: #1967D2;\n",
              "      height: 32px;\n",
              "      padding: 0 0 0 0;\n",
              "      width: 32px;\n",
              "    }\n",
              "\n",
              "    .colab-df-convert:hover {\n",
              "      background-color: #E2EBFA;\n",
              "      box-shadow: 0px 1px 2px rgba(60, 64, 67, 0.3), 0px 1px 3px 1px rgba(60, 64, 67, 0.15);\n",
              "      fill: #174EA6;\n",
              "    }\n",
              "\n",
              "    [theme=dark] .colab-df-convert {\n",
              "      background-color: #3B4455;\n",
              "      fill: #D2E3FC;\n",
              "    }\n",
              "\n",
              "    [theme=dark] .colab-df-convert:hover {\n",
              "      background-color: #434B5C;\n",
              "      box-shadow: 0px 1px 3px 1px rgba(0, 0, 0, 0.15);\n",
              "      filter: drop-shadow(0px 1px 2px rgba(0, 0, 0, 0.3));\n",
              "      fill: #FFFFFF;\n",
              "    }\n",
              "  </style>\n",
              "\n",
              "      <script>\n",
              "        const buttonEl =\n",
              "          document.querySelector('#df-be471d14-30c7-4a26-bf20-dfad35409bd2 button.colab-df-convert');\n",
              "        buttonEl.style.display =\n",
              "          google.colab.kernel.accessAllowed ? 'block' : 'none';\n",
              "\n",
              "        async function convertToInteractive(key) {\n",
              "          const element = document.querySelector('#df-be471d14-30c7-4a26-bf20-dfad35409bd2');\n",
              "          const dataTable =\n",
              "            await google.colab.kernel.invokeFunction('convertToInteractive',\n",
              "                                                     [key], {});\n",
              "          if (!dataTable) return;\n",
              "\n",
              "          const docLinkHtml = 'Like what you see? Visit the ' +\n",
              "            '<a target=\"_blank\" href=https://colab.research.google.com/notebooks/data_table.ipynb>data table notebook</a>'\n",
              "            + ' to learn more about interactive tables.';\n",
              "          element.innerHTML = '';\n",
              "          dataTable['output_type'] = 'display_data';\n",
              "          await google.colab.output.renderOutput(dataTable, element);\n",
              "          const docLink = document.createElement('div');\n",
              "          docLink.innerHTML = docLinkHtml;\n",
              "          element.appendChild(docLink);\n",
              "        }\n",
              "      </script>\n",
              "    </div>\n",
              "  </div>\n",
              "  "
            ],
            "text/plain": [
              "       DateOccured  Neighborhood        UCRCrime\n",
              "0       2000-01-01            53    Sex Offenses\n",
              "1       2003-01-01            17   Larceny-theft\n",
              "2       2004-01-01            68           Fraud\n",
              "3       2006-01-01            16           Fraud\n",
              "4       2007-01-01            57  Other assaults\n",
              "...            ...           ...             ...\n",
              "477636  2013-12-01             5   Larceny-theft\n",
              "477637  2013-12-20            65   Forcible Rape\n",
              "477638  2014-12-22            14  Other assaults\n",
              "477639  2014-12-26            60         Robbery\n",
              "477640  2014-12-29             1           Other\n",
              "\n",
              "[449000 rows x 3 columns]"
            ]
          },
          "metadata": {},
          "execution_count": 2
        }
      ]
    },
    {
      "cell_type": "code",
      "source": [
        "#keeping dates starting 2008\n",
        "start = datetime.strptime('Jan 1 2008 00:00','%b %d %Y %H:%M').date()\n",
        "filt = data['DateOccured'] >= start\n",
        "data = data.where(filt)\n",
        "data = data.dropna()"
      ],
      "metadata": {
        "id": "7RS_aVIbyowW"
      },
      "execution_count": 3,
      "outputs": []
    },
    {
      "cell_type": "code",
      "source": [
        "mask1 = (data['UCRCrime'] == 'Forcible Rape') | (data['UCRCrime'] == 'Sex Offenses')\n",
        "data.loc[mask1,'UCRCrime'] = 'Sexual Abuse'\n",
        "mask2 = ( (data['UCRCrime']=='Larceny-theft') | (data['UCRCrime']=='Fraud') |\n",
        "         (data['UCRCrime']=='Forgery and Counterfeiting') | (data['UCRCrime']=='Burglary') |\n",
        "         (data['UCRCrime']=='Arson') | (data['UCRCrime']=='Robbery') | (data['UCRCrime']=='Embezzlement') |\n",
        "         (data['UCRCrime']== 'Stolen Property') | (data['UCRCrime']=='Motor vehicle theft') )\n",
        "data.loc[mask2,'UCRCrime'] = 'Property Crimes'\n",
        "mask3 = ( (data['UCRCrime']=='Aggravated Assault') | (data['UCRCrime']=='Other assaults') |\n",
        "         (data['UCRCrime']=='Criminal Homicide') | (data['UCRCrime']=='Offenses Against the Family and Children') )\n",
        "data.loc[mask3,'UCRCrime'] = 'Violence'\n",
        "mask4 = ( (data['UCRCrime']=='Vandalism') | (data['UCRCrime']=='Vagrancy') | (data['UCRCrime']=='Gambling') |\n",
        "         (data['UCRCrime']=='Prostitution and Commercialized Vice') | (data['UCRCrime']=='Weapons') )\n",
        "data.loc[mask4,'UCRCrime'] = 'Vice'\n",
        "mask5 = ( (data['UCRCrime']=='Disorderly Conduct') | (data['UCRCrime']=='DUI') |\n",
        "         (data['UCRCrime']=='Liquor Laws') | (data['UCRCrime']=='Drug Abuse Violations') )\n",
        "data.loc[mask5,'UCRCrime'] = 'Substance Abuse'"
      ],
      "metadata": {
        "id": "FGBhXafJyot9"
      },
      "execution_count": 4,
      "outputs": []
    },
    {
      "cell_type": "code",
      "source": [
        "#compute count for each day and each crime category and store in dictionary\n",
        "dico = data.groupby(['DateOccured','UCRCrime']).count().to_dict()['Neighborhood']\n",
        "#create new df that will contain count for each category and each day\n",
        "df = pd.DataFrame(columns=['Date']+list(data['UCRCrime'].unique()))"
      ],
      "metadata": {
        "id": "vq0QIc9GyorX"
      },
      "execution_count": 5,
      "outputs": []
    },
    {
      "cell_type": "code",
      "source": [
        "n_days = 2922 #number of days from jan 1st 2008 to dec 31st 2015\n",
        "df['Date'] = [start+timedelta(days = i)  for i in range(n_days)]"
      ],
      "metadata": {
        "id": "zVHAfOVEyzDp"
      },
      "execution_count": 6,
      "outputs": []
    },
    {
      "cell_type": "code",
      "source": [
        "#filling df with values from dict\n",
        "for i in range(len(df.index)):\n",
        "  for crime in ['Sexual Abuse',\t'Property Crimes',\t'Violence',\t'Other',\t'Vice',\t'Substance Abuse']:\n",
        "    if (start+timedelta(days=i),crime) in dico.keys():\n",
        "      df.iloc[i][crime] = dico[(start+timedelta(days=i),crime)]\n",
        "    else:\n",
        "      df.iloc[i][crime] = 0"
      ],
      "metadata": {
        "id": "TUnicgeHyzAt"
      },
      "execution_count": 7,
      "outputs": []
    },
    {
      "cell_type": "code",
      "source": [
        "#making sure no Nan values are left\n",
        "df.info()"
      ],
      "metadata": {
        "colab": {
          "base_uri": "https://localhost:8080/"
        },
        "id": "2Lpnj4qbyoot",
        "outputId": "b25cb07c-b220-437c-b869-15dfd06d64f5"
      },
      "execution_count": 8,
      "outputs": [
        {
          "output_type": "stream",
          "name": "stdout",
          "text": [
            "<class 'pandas.core.frame.DataFrame'>\n",
            "RangeIndex: 2922 entries, 0 to 2921\n",
            "Data columns (total 7 columns):\n",
            " #   Column           Non-Null Count  Dtype \n",
            "---  ------           --------------  ----- \n",
            " 0   Date             2922 non-null   object\n",
            " 1   Sexual Abuse     2922 non-null   object\n",
            " 2   Property Crimes  2922 non-null   object\n",
            " 3   Violence         2922 non-null   object\n",
            " 4   Other            2922 non-null   object\n",
            " 5   Vice             2922 non-null   object\n",
            " 6   Substance Abuse  2922 non-null   object\n",
            "dtypes: object(7)\n",
            "memory usage: 159.9+ KB\n"
          ]
        }
      ]
    },
    {
      "cell_type": "code",
      "source": [
        "def series_to_supervised(data, n_in=1, n_out=1, dropnan=True):\n",
        "\t\"\"\"\n",
        "\tFrame a time series as a supervised learning dataset.\n",
        "\tArguments:\n",
        "\t\tdata: Sequence of observations as a list or NumPy array.\n",
        "\t\tn_in: Number of lag observations as input (X).\n",
        "\t\tn_out: Number of observations as output (y).\n",
        "\t\tdropnan: Boolean whether or not to drop rows with NaN values.\n",
        "\tReturns:\n",
        "\t\tPandas DataFrame of series framed for supervised learning.\n",
        "\t\"\"\"\n",
        "\tn_vars = 1 if type(data) is list else data.shape[1]\n",
        "\tdf = pd.DataFrame(data)\n",
        "\tcols, names = list(), list()\n",
        "\t# input sequence (t-n, ... t-1)\n",
        "\tfor i in range(n_in, 0, -1):\n",
        "\t\tcols.append(df.shift(i))\n",
        "\t\tnames += [('var%d(t-%d)' % (j+1, i)) for j in range(n_vars)]\n",
        "\t# forecast sequence (t, t+1, ... t+n)\n",
        "\tfor i in range(0, n_out):\n",
        "\t\tcols.append(df.shift(-i))\n",
        "\t\tif i == 0:\n",
        "\t\t\tnames += [('var%d(t)' % (j+1)) for j in range(n_vars)]\n",
        "\t\telse:\n",
        "\t\t\tnames += [('var%d(t+%d)' % (j+1, i)) for j in range(n_vars)]\n",
        "\t# put it all together\n",
        "\tagg = pd.concat(cols, axis=1)\n",
        "\tagg.columns = names\n",
        "\t# drop rows with NaN values\n",
        "\tif dropnan:\n",
        "\t\tagg.dropna(inplace=True)\n",
        "\treturn agg\n"
      ],
      "metadata": {
        "id": "x6qOzQOry5tr"
      },
      "execution_count": 9,
      "outputs": []
    },
    {
      "cell_type": "code",
      "source": [
        "crimes = ['Sexual Abuse',\t'Property Crimes',\t'Violence',\t'Other',\t'Vice',\t'Substance Abuse']\n",
        "# load dataset\n",
        "# choose crime category\n",
        "dataset = df[crimes[1]]\n",
        "values = dataset.values\n",
        "# ensure all data is float\n",
        "values = values.astype('float32')\n",
        "values = values.reshape(-1, 1)\n",
        "# normalize feature\n",
        "scaler = MinMaxScaler(feature_range=(0, 1))\n",
        "scaled = scaler.fit_transform(values)\n",
        "# frame as supervised learning\n",
        "reframed = series_to_supervised(scaled, 7, 1)\n",
        "# drop columns we don't want to predict\n",
        "print(reframed.head())"
      ],
      "metadata": {
        "colab": {
          "base_uri": "https://localhost:8080/"
        },
        "id": "e00qbtZAy5rQ",
        "outputId": "c36d9a17-bf77-4862-f6b4-5563f63f1119"
      },
      "execution_count": 10,
      "outputs": [
        {
          "output_type": "stream",
          "name": "stdout",
          "text": [
            "    var1(t-7)  var1(t-6)  var1(t-5)  ...  var1(t-2)  var1(t-1)   var1(t)\n",
            "7    0.793333   0.620000   0.533333  ...   0.533333   0.626667  0.500000\n",
            "8    0.620000   0.533333   0.766667  ...   0.626667   0.500000  0.500000\n",
            "9    0.533333   0.766667   0.726667  ...   0.500000   0.500000  0.633333\n",
            "10   0.766667   0.726667   0.533333  ...   0.500000   0.633333  0.800000\n",
            "11   0.726667   0.533333   0.626667  ...   0.633333   0.800000  0.626667\n",
            "\n",
            "[5 rows x 8 columns]\n"
          ]
        }
      ]
    },
    {
      "cell_type": "code",
      "source": [
        "from keras.models import Sequential\n",
        "from keras.layers.recurrent import LSTM\n",
        "from keras.layers.core import Dense, Activation, Dropout\n",
        "from sklearn.metrics import mean_squared_error\n",
        "from keras.layers import Dropout\n",
        "from keras import regularizers"
      ],
      "metadata": {
        "id": "HFbzGBZny5ly"
      },
      "execution_count": 11,
      "outputs": []
    },
    {
      "cell_type": "code",
      "source": [
        "# split into train and test sets\n",
        "values = reframed.values\n",
        "n_train_days = 2192 #up to 2013\n",
        "train = values[:n_train_days, :]\n",
        "test = values[n_train_days:, :]\n",
        "# split into input and outputs\n",
        "train_X, train_y = train[:, :-1], train[:, -1]\n",
        "test_X, test_y = test[:, :-1], test[:, -1]\n",
        "# reshape input to be 3D [samples, timesteps, features]\n",
        "train_X = train_X.reshape((train_X.shape[0], 1, train_X.shape[1]))\n",
        "test_X = test_X.reshape((test_X.shape[0], 1, test_X.shape[1]))\n",
        "print(train_X.shape, train_y.shape, test_X.shape, test_y.shape)\n",
        "# design network\n",
        "model = Sequential()\n",
        "model.add(LSTM(50, input_shape=(train_X.shape[1], train_X.shape[2]),dropout=0.2))\n",
        "model.add(Dense(1))\n",
        "model.compile(loss='mae', optimizer='adam')\n",
        "# fit network\n",
        "history = model.fit(train_X, train_y, epochs=50, batch_size=32, validation_data=(test_X, test_y), verbose=2, shuffle=True)\n",
        "# plot history\n",
        "plt.plot(history.history['loss'], label='train')\n",
        "plt.plot(history.history['val_loss'], label='test')\n",
        "plt.legend()\n",
        "plt.show()"
      ],
      "metadata": {
        "colab": {
          "base_uri": "https://localhost:8080/",
          "height": 1000
        },
        "id": "coTiUopLyomJ",
        "outputId": "09062be6-b37c-465f-8171-ac4b17f2883e"
      },
      "execution_count": 12,
      "outputs": [
        {
          "output_type": "stream",
          "name": "stdout",
          "text": [
            "(2192, 1, 7) (2192,) (723, 1, 7) (723,)\n",
            "Epoch 1/50\n",
            "69/69 - 3s - loss: 0.1537 - val_loss: 0.0689 - 3s/epoch - 47ms/step\n",
            "Epoch 2/50\n",
            "69/69 - 0s - loss: 0.0944 - val_loss: 0.0675 - 211ms/epoch - 3ms/step\n",
            "Epoch 3/50\n",
            "69/69 - 0s - loss: 0.0932 - val_loss: 0.0702 - 245ms/epoch - 4ms/step\n",
            "Epoch 4/50\n",
            "69/69 - 0s - loss: 0.0956 - val_loss: 0.0694 - 186ms/epoch - 3ms/step\n",
            "Epoch 5/50\n",
            "69/69 - 0s - loss: 0.0928 - val_loss: 0.0686 - 191ms/epoch - 3ms/step\n",
            "Epoch 6/50\n",
            "69/69 - 0s - loss: 0.0914 - val_loss: 0.0685 - 203ms/epoch - 3ms/step\n",
            "Epoch 7/50\n",
            "69/69 - 0s - loss: 0.0924 - val_loss: 0.0722 - 209ms/epoch - 3ms/step\n",
            "Epoch 8/50\n",
            "69/69 - 0s - loss: 0.0909 - val_loss: 0.0726 - 191ms/epoch - 3ms/step\n",
            "Epoch 9/50\n",
            "69/69 - 0s - loss: 0.0905 - val_loss: 0.0735 - 267ms/epoch - 4ms/step\n",
            "Epoch 10/50\n",
            "69/69 - 0s - loss: 0.0894 - val_loss: 0.0764 - 240ms/epoch - 3ms/step\n",
            "Epoch 11/50\n",
            "69/69 - 0s - loss: 0.0904 - val_loss: 0.0717 - 245ms/epoch - 4ms/step\n",
            "Epoch 12/50\n",
            "69/69 - 0s - loss: 0.0894 - val_loss: 0.0730 - 189ms/epoch - 3ms/step\n",
            "Epoch 13/50\n",
            "69/69 - 0s - loss: 0.0898 - val_loss: 0.0708 - 255ms/epoch - 4ms/step\n",
            "Epoch 14/50\n",
            "69/69 - 0s - loss: 0.0901 - val_loss: 0.0704 - 203ms/epoch - 3ms/step\n",
            "Epoch 15/50\n",
            "69/69 - 0s - loss: 0.0912 - val_loss: 0.0765 - 203ms/epoch - 3ms/step\n",
            "Epoch 16/50\n",
            "69/69 - 0s - loss: 0.0893 - val_loss: 0.0691 - 252ms/epoch - 4ms/step\n",
            "Epoch 17/50\n",
            "69/69 - 0s - loss: 0.0895 - val_loss: 0.0727 - 235ms/epoch - 3ms/step\n",
            "Epoch 18/50\n",
            "69/69 - 0s - loss: 0.0892 - val_loss: 0.0725 - 231ms/epoch - 3ms/step\n",
            "Epoch 19/50\n",
            "69/69 - 0s - loss: 0.0864 - val_loss: 0.0683 - 244ms/epoch - 4ms/step\n",
            "Epoch 20/50\n",
            "69/69 - 0s - loss: 0.0881 - val_loss: 0.0690 - 228ms/epoch - 3ms/step\n",
            "Epoch 21/50\n",
            "69/69 - 0s - loss: 0.0893 - val_loss: 0.0725 - 189ms/epoch - 3ms/step\n",
            "Epoch 22/50\n",
            "69/69 - 0s - loss: 0.0868 - val_loss: 0.0677 - 254ms/epoch - 4ms/step\n",
            "Epoch 23/50\n",
            "69/69 - 0s - loss: 0.0889 - val_loss: 0.0734 - 251ms/epoch - 4ms/step\n",
            "Epoch 24/50\n",
            "69/69 - 0s - loss: 0.0883 - val_loss: 0.0702 - 214ms/epoch - 3ms/step\n",
            "Epoch 25/50\n",
            "69/69 - 0s - loss: 0.0875 - val_loss: 0.0682 - 208ms/epoch - 3ms/step\n",
            "Epoch 26/50\n",
            "69/69 - 0s - loss: 0.0889 - val_loss: 0.0762 - 240ms/epoch - 3ms/step\n",
            "Epoch 27/50\n",
            "69/69 - 0s - loss: 0.0881 - val_loss: 0.0708 - 251ms/epoch - 4ms/step\n",
            "Epoch 28/50\n",
            "69/69 - 0s - loss: 0.0883 - val_loss: 0.0687 - 221ms/epoch - 3ms/step\n",
            "Epoch 29/50\n",
            "69/69 - 0s - loss: 0.0871 - val_loss: 0.0700 - 213ms/epoch - 3ms/step\n",
            "Epoch 30/50\n",
            "69/69 - 0s - loss: 0.0867 - val_loss: 0.0715 - 193ms/epoch - 3ms/step\n",
            "Epoch 31/50\n",
            "69/69 - 0s - loss: 0.0878 - val_loss: 0.0698 - 213ms/epoch - 3ms/step\n",
            "Epoch 32/50\n",
            "69/69 - 0s - loss: 0.0868 - val_loss: 0.0704 - 198ms/epoch - 3ms/step\n",
            "Epoch 33/50\n",
            "69/69 - 0s - loss: 0.0871 - val_loss: 0.0706 - 180ms/epoch - 3ms/step\n",
            "Epoch 34/50\n",
            "69/69 - 0s - loss: 0.0857 - val_loss: 0.0690 - 206ms/epoch - 3ms/step\n",
            "Epoch 35/50\n",
            "69/69 - 0s - loss: 0.0876 - val_loss: 0.0677 - 213ms/epoch - 3ms/step\n",
            "Epoch 36/50\n",
            "69/69 - 0s - loss: 0.0866 - val_loss: 0.0680 - 226ms/epoch - 3ms/step\n",
            "Epoch 37/50\n",
            "69/69 - 0s - loss: 0.0871 - val_loss: 0.0682 - 233ms/epoch - 3ms/step\n",
            "Epoch 38/50\n",
            "69/69 - 0s - loss: 0.0870 - val_loss: 0.0757 - 243ms/epoch - 4ms/step\n",
            "Epoch 39/50\n",
            "69/69 - 0s - loss: 0.0874 - val_loss: 0.0678 - 184ms/epoch - 3ms/step\n",
            "Epoch 40/50\n",
            "69/69 - 0s - loss: 0.0871 - val_loss: 0.0670 - 184ms/epoch - 3ms/step\n",
            "Epoch 41/50\n",
            "69/69 - 0s - loss: 0.0867 - val_loss: 0.0661 - 192ms/epoch - 3ms/step\n",
            "Epoch 42/50\n",
            "69/69 - 0s - loss: 0.0861 - val_loss: 0.0687 - 257ms/epoch - 4ms/step\n",
            "Epoch 43/50\n",
            "69/69 - 0s - loss: 0.0870 - val_loss: 0.0668 - 216ms/epoch - 3ms/step\n",
            "Epoch 44/50\n",
            "69/69 - 0s - loss: 0.0883 - val_loss: 0.0651 - 250ms/epoch - 4ms/step\n",
            "Epoch 45/50\n",
            "69/69 - 0s - loss: 0.0878 - val_loss: 0.0665 - 276ms/epoch - 4ms/step\n",
            "Epoch 46/50\n",
            "69/69 - 0s - loss: 0.0862 - val_loss: 0.0665 - 247ms/epoch - 4ms/step\n",
            "Epoch 47/50\n",
            "69/69 - 0s - loss: 0.0873 - val_loss: 0.0667 - 230ms/epoch - 3ms/step\n",
            "Epoch 48/50\n",
            "69/69 - 0s - loss: 0.0867 - val_loss: 0.0733 - 189ms/epoch - 3ms/step\n",
            "Epoch 49/50\n",
            "69/69 - 0s - loss: 0.0852 - val_loss: 0.0672 - 195ms/epoch - 3ms/step\n",
            "Epoch 50/50\n",
            "69/69 - 0s - loss: 0.0867 - val_loss: 0.0671 - 182ms/epoch - 3ms/step\n"
          ]
        },
        {
          "output_type": "display_data",
          "data": {
            "image/png": "[encoded data removed]",
            "text/plain": [
              "<Figure size 432x288 with 1 Axes>"
            ]
          },
          "metadata": {
            "needs_background": "light"
          }
        }
      ]
    },
    {
      "cell_type": "code",
      "source": [
        ""
      ],
      "metadata": {
        "id": "tCUu5axIzCo1"
      },
      "execution_count": null,
      "outputs": []
    },
    {
      "cell_type": "code",
      "source": [
        ""
      ],
      "metadata": {
        "id": "XO9o1VEhzCmf"
      },
      "execution_count": null,
      "outputs": []
    },
    {
      "cell_type": "code",
      "source": [
        ""
      ],
      "metadata": {
        "id": "BjDeFbw_zCjj"
      },
      "execution_count": null,
      "outputs": []
    }
  ]
}